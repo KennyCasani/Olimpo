{
 "cells": [
  {
   "cell_type": "markdown",
   "id": "24809909",
   "metadata": {},
   "source": [
    "## UNIVERSIDAD PERUANA DE CIENCIAS APLICADAS"
   ]
  },
  {
   "cell_type": "markdown",
   "id": "75cafd50",
   "metadata": {},
   "source": [
    "### INFORMACIÓN DE LA SEGUNDA TESIS"
   ]
  },
  {
   "cell_type": "code",
   "execution_count": 10,
   "id": "73c801c6",
   "metadata": {},
   "outputs": [
    {
     "name": "stdout",
     "output_type": "stream",
     "text": [
      "https://repositorioacademico.upc.edu.pe:/handle/10757/628108?show=full\n"
     ]
    }
   ],
   "source": [
    "import pandas as pd\n",
    "import requests \n",
    "import re \n",
    "from bs4 import BeautifulSoup as bs \n",
    "url=\"https://repositorioacademico.upc.edu.pe/handle/10757/628108\"\n",
    "html=requests.get(url)\n",
    "content=html.content\n",
    "soup=bs(content,\"lxml\")\n",
    "data=soup.find(\"div\",class_=\"simple-item-view-show-full item-page-field-wrapper table\")\n",
    "link=data.find(\"a\")\n",
    "print(\"https://repositorioacademico.upc.edu.pe:\"+ link[\"href\"])"
   ]
  },
  {
   "cell_type": "code",
   "execution_count": 11,
   "id": "6a93cbe4",
   "metadata": {},
   "outputs": [
    {
     "name": "stdout",
     "output_type": "stream",
     "text": [
      "Caldas Nuñez, Manuel\n",
      "Muedas Higginson, Ana Cristina\n",
      "Rojas Velásquez, Renato Germán\n",
      "2019-11-21T19:47:23Z\n",
      "2019-11-21T19:47:23Z\n",
      "2019-10-30\n",
      "http://hdl.handle.net/10757/628108\n",
      "La creciente competitividad del mercado, genera una dificultad cada vez mayor en las organizaciones para alcanzar el éxito en sus proyectos. Tal hecho busca priorizar criterios económicos, tiempo, costo, calidad y alcance, ocasionando falta de controles que resultan en brechas de seguridad en la compañía. De esa forma se deja en segundo plano procedimientos de seguridad como por ejemplo el testeo de aplicaciones web. Estas poseen vulnerabilidades que podrían proporcionar los medios para que usuarios finales maliciosos violen mecanismos de protección de un sistema y obtengan acceso a información privada o recursos de la empresa. \r\n",
      "Los pronósticos referentes a la violación de datos indican que la industria de salud será el blanco más buscado para los ataques cibernéticos en 2017 ya que el alto valor de los registros de salud electrónicos (EHRs) llama cada vez más la atención de los cibercriminales. Dichos registros representan una fuente de ganancias mayor a la que si se accediera a información de tarjetas o cuentas bancarias. \r\n",
      "El presente proyecto propone un modelo de madurez de seguridad de aplicaciones web ante ciberataques para clínicas de nivel 2 bajo la norma técnica del MINSA, orientada a mostrar las debilidades de las aplicaciones web y las mejoras que se puedan realizar en aspectos de seguridad. El proyecto permitió la implementación de mejoras por parte de las empresas clientes en sus plataformas web mediante la recomendación propuesta por la guía de mejora luego de haber realizado el pentesting propuesto.\n",
      "Bearing in mind that the projections made for the area of information security point to an increase in attacks on the health sector, added to the lack or little diffusion of security maturity models that allow organizations to know the status of their website in terms of security and that the existing models lack a post-evaluation monitoring, it is necessary to propose a model of security maturity of web applications against cyber-attacks, oriented to the health sector, which is simple to apply. \r\n",
      "The maturity model proposes to offer the user a portfolio of tools that asks them to apply tests and obtain their results, interpret them and place them at a level of maturity before cyberattacks, then proposing controls to improve the security of the web. This model will be based on the International Professional Practice Framework methodology and will include the main vulnerabilities published by the Open Web Application Security Project to propose attacks that identify the weakness of the evaluated web system, so that the client company has the possibility to reinforce its weaknesses. Guides will also be proposed to select strategies to improve critical points from a security perspective. \r\n",
      "Because of the validation, it was found that, of the 14 tests applied, five were approved, positioning the web at level 3 of maturity, which means that there are validations in the structure of the web; however, they are partial or inefficient.\n",
      "Tesis\n",
      "application/pdf\n",
      "application/epub\n",
      "application/msword\n",
      "spa\n",
      "Universidad Peruana de Ciencias Aplicadas (UPC)\n",
      "info:eu-repo/semantics/openAccess\n",
      "Attribution-NonCommercial-ShareAlike 4.0 International\n",
      "http://creativecommons.org/licenses/by-nc-sa/4.0/\n",
      "Universidad Peruana de Ciencias Aplicadas (UPC)\n",
      "Repositorio Académico - UPC\n",
      "Seguridad informática\n",
      "Aplicaciones informáticas\n",
      "Ciberseguridad\n",
      "Informatic security\n",
      "Computer applications\n",
      "Cybersecurity\n",
      "Modelo de madurez de seguridad de aplicaciones web ante ciberataques para clínicas de nivel 2\n",
      "Security maturity model of web applications for cyber attacks for level 2 clinics\n",
      "info:eu-repo/semantics/bachelorThesis\n",
      "Universidad Peruana de Ciencias Aplicadas (UPC). Facultad de Ingeniería\n",
      "Licenciatura\n",
      "Ingeniería de Sistemas de Información\n",
      "Ingeniero de sistemas de información\n",
      "2019-11-25T16:42:35Z\n",
      "0000 0001 2196 144X\n",
      "http://purl.org/pe-repo/renati/type#tesis\n",
      "http://purl.org/pe-repo/renati/nivel#tituloProfesional\n",
      "PE\n",
      "Tesis\n",
      "Muedas_HA.pdf\n",
      "3.302Mb\n",
      "PDF\n",
      "Muedas_HA.docx\n",
      "2089-10-30\n",
      "2.970Mb\n",
      "Microsoft Word 2007\n",
      "Muedas_HA_Ficha.pdf\n",
      "2089-10-30\n",
      "121.7Kb\n",
      "PDF\n"
     ]
    }
   ],
   "source": [
    "url=\"https://repositorioacademico.upc.edu.pe:/handle/10757/628108?show=full\"\n",
    "html=requests.get(url)\n",
    "content=html.content\n",
    "soup=bs(content,\"lxml\")\n",
    "data=soup.find(class_=\"ds-static-div primary\")\n",
    "info=data.find_all(class_=\"word-break\")\n",
    "for linea in info:\n",
    "    contenido=linea.text\n",
    "    print(contenido)"
   ]
  },
  {
   "cell_type": "markdown",
   "id": "47225a30",
   "metadata": {},
   "source": [
    "### UNIVERSIDAD"
   ]
  },
  {
   "cell_type": "code",
   "execution_count": 12,
   "id": "7ecf19bf",
   "metadata": {},
   "outputs": [
    {
     "name": "stdout",
     "output_type": "stream",
     "text": [
      "Universidad Peruana de Ciencias Aplicadas (UPC)\n"
     ]
    }
   ],
   "source": [
    "url=\"https://repositorioacademico.upc.edu.pe:/handle/10757/628108?show=full\"\n",
    "html=requests.get(url)\n",
    "content=html.content\n",
    "soup=bs(content,\"lxml\")\n",
    "data=soup.find(class_=\"ds-static-div primary\")\n",
    "universidad=data.find_all(class_=\"word-break\")[14].text\n",
    "print(universidad)"
   ]
  },
  {
   "cell_type": "markdown",
   "id": "d86e1ffd",
   "metadata": {},
   "source": [
    "### TÍTULO DE LA TESIS"
   ]
  },
  {
   "cell_type": "code",
   "execution_count": 9,
   "id": "9545d681",
   "metadata": {},
   "outputs": [
    {
     "name": "stdout",
     "output_type": "stream",
     "text": [
      "Sistematización de una Batería Neurocognitiva para Pacientes Adultos con Esclerosis Múltiple\n"
     ]
    }
   ],
   "source": [
    "url=\"https://repositorioacademico.upc.edu.pe:/handle/10757/625993?show=full\"\n",
    "html=requests.get(url)\n",
    "content=html.content\n",
    "soup=bs(content,\"lxml\")\n",
    "data=soup.find(class_=\"ds-static-div primary\")\n",
    "titulo=data.find_all(class_=\"word-break\")[31].text\n",
    "print(titulo)"
   ]
  },
  {
   "cell_type": "markdown",
   "id": "e8e44f70",
   "metadata": {},
   "source": [
    "### NOMBRE DEL TESISTA"
   ]
  },
  {
   "cell_type": "code",
   "execution_count": 13,
   "id": "e1b278b8",
   "metadata": {},
   "outputs": [
    {
     "name": "stdout",
     "output_type": "stream",
     "text": [
      "Perona Galluccio, Sandra Guisella\n"
     ]
    }
   ],
   "source": [
    "url=\"https://repositorioacademico.upc.edu.pe:/handle/10757/625993?show=full\"\n",
    "html=requests.get(url)\n",
    "content=html.content\n",
    "soup=bs(content,\"lxml\")\n",
    "data=soup.find(class_=\"ds-static-div primary\")\n",
    "nombre_tesista=data.find_all(class_=\"word-break\")[1].text\n",
    "print(nombre_tesista)"
   ]
  },
  {
   "cell_type": "code",
   "execution_count": null,
   "id": "231e358c",
   "metadata": {},
   "outputs": [],
   "source": [
    "url=\"https://repositorioacademico.upc.edu.pe:/handle/10757/625993?show=full\"\n",
    "html=requests.get(url)\n",
    "content=html.content\n",
    "soup=bs(content,\"lxml\")\n",
    "data=soup.find(class_=\"ds-static-div primary\")\n",
    "profesion=data.find_all(class_=\"word-break\")[30].text\n",
    "print(profesion)"
   ]
  },
  {
   "cell_type": "code",
   "execution_count": 5,
   "id": "91c0d356",
   "metadata": {},
   "outputs": [
    {
     "name": "stdout",
     "output_type": "stream",
     "text": [
      "Lepage Chumpitaz, Cesar Augusto\n",
      "Perona Galluccio, Sandra Guisella\n",
      "Subauste Oliden, Daniel Alejandro\n"
     ]
    }
   ],
   "source": [
    "url=\"https://repositorioacademico.upc.edu.pe:/handle/10757/625993?show=full\"\n",
    "html=requests.get(url)\n",
    "content=html.content\n",
    "soup=bs(content,\"lxml\")\n",
    "data=soup.find(class_=\"ds-static-div primary\")\n",
    "asesor1=data.find_all(class_=\"word-break\")[0].text\n",
    "asesor2=data.find_all(class_=\"word-break\")[1].text\n",
    "asesor3=data.find_all(class_=\"word-break\")[2].text\n",
    "print(asesor1)\n",
    "print(asesor2)\n",
    "print(asesor3)"
   ]
  },
  {
   "cell_type": "code",
   "execution_count": null,
   "id": "ca9e2c14",
   "metadata": {},
   "outputs": [],
   "source": [
    "url=\"https://repositorioacademico.upc.edu.pe:/handle/10757/625993?show=full\"\n",
    "html=requests.get(url)\n",
    "content=html.content\n",
    "soup=bs(content,\"lxml\")\n",
    "data=soup.find(class_=\"ds-static-div primary\")\n",
    "resumen=data.find_all(class_=\"word-break\")[6].text\n",
    "print(resumen)"
   ]
  },
  {
   "cell_type": "code",
   "execution_count": null,
   "id": "1a683dfc",
   "metadata": {},
   "outputs": [],
   "source": [
    "url=\"https://repositorioacademico.upc.edu.pe:/handle/10757/625993?show=full\"\n",
    "html=requests.get(url)\n",
    "content=html.content\n",
    "soup=bs(content,\"lxml\")\n",
    "data=soup.find(class_=\"ds-static-div primary\")\n",
    "fecha_emitida=data.find_all(class_=\"word-break\")[4].text\n",
    "print(fecha_emitida)"
   ]
  }
 ],
 "metadata": {
  "kernelspec": {
   "display_name": "Python 3 (ipykernel)",
   "language": "python",
   "name": "python3"
  },
  "language_info": {
   "codemirror_mode": {
    "name": "ipython",
    "version": 3
   },
   "file_extension": ".py",
   "mimetype": "text/x-python",
   "name": "python",
   "nbconvert_exporter": "python",
   "pygments_lexer": "ipython3",
   "version": "3.9.12"
  }
 },
 "nbformat": 4,
 "nbformat_minor": 5
}
