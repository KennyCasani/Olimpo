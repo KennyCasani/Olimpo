{
 "cells": [
  {
   "cell_type": "markdown",
   "id": "52edc101",
   "metadata": {},
   "source": [
    "### TESIS DE PRUEBA"
   ]
  },
  {
   "cell_type": "code",
   "execution_count": 1,
   "id": "fd0dc644",
   "metadata": {},
   "outputs": [
    {
     "name": "stdout",
     "output_type": "stream",
     "text": [
      "Somos el exito\n"
     ]
    }
   ],
   "source": [
    "print(\"Somos el exito\")"
   ]
  },
  {
   "cell_type": "code",
   "execution_count": null,
   "id": "827b0181",
   "metadata": {},
   "outputs": [],
   "source": []
  }
 ],
 "metadata": {
  "kernelspec": {
   "display_name": "Python 3 (ipykernel)",
   "language": "python",
   "name": "python3"
  },
  "language_info": {
   "codemirror_mode": {
    "name": "ipython",
    "version": 3
   },
   "file_extension": ".py",
   "mimetype": "text/x-python",
   "name": "python",
   "nbconvert_exporter": "python",
   "pygments_lexer": "ipython3",
   "version": "3.9.12"
  }
 },
 "nbformat": 4,
 "nbformat_minor": 5
}
